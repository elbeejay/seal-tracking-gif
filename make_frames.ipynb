{
 "cells": [
  {
   "cell_type": "code",
   "execution_count": 1,
   "id": "e6409955-d334-452e-9cde-5716933d99cf",
   "metadata": {},
   "outputs": [],
   "source": [
    "import os\n",
    "import geopandas as gpd\n",
    "import numpy as np\n",
    "import matplotlib.pyplot as plt\n",
    "import pandas as pd\n",
    "import cartopy.crs as ccrs"
   ]
  },
  {
   "cell_type": "code",
   "execution_count": 2,
   "id": "cd9b600c-5b33-4ecb-abdb-bb95c673e272",
   "metadata": {},
   "outputs": [],
   "source": [
    "# identify dataset TSV files\n",
    "fnames = os.listdir(\"datasets/\")\n",
    "flist = []\n",
    "for f in fnames:\n",
    "    if \"depth_frequency\" in f:\n",
    "        flist.append(f)"
   ]
  },
  {
   "cell_type": "code",
   "execution_count": 3,
   "id": "d748456c-ac14-4f7a-a608-de048b115cac",
   "metadata": {},
   "outputs": [],
   "source": [
    "# populate dataframe from dataset TSV files\n",
    "df = dict()\n",
    "gdf = dict()\n",
    "count = 0\n",
    "for i in flist:\n",
    "    df[count] = pd.read_table('datasets/' + i,\n",
    "                              skiprows=np.arange(0,21)\n",
    "                             )\n",
    "    gdf[count] = gpd.GeoDataFrame(\n",
    "        df[count],\n",
    "        geometry=gpd.points_from_xy(\n",
    "            df[count].Longitude, df[count].Latitude),\n",
    "        crs=\"EPSG:4326\"\n",
    "    )\n",
    "    count += 1"
   ]
  },
  {
   "cell_type": "code",
   "execution_count": 4,
   "id": "b8eb05ab-002a-4b42-951e-a644d6573ab0",
   "metadata": {},
   "outputs": [],
   "source": [
    "# get shoreline world file\n",
    "world = gpd.read_file(gpd.datasets.get_path('naturalearth_lowres'))"
   ]
  },
  {
   "cell_type": "code",
   "execution_count": 5,
   "id": "0f91dfd6-0e16-4ffe-93cb-8667ce8ace92",
   "metadata": {},
   "outputs": [],
   "source": [
    "# projection handling\n",
    "crs = ccrs.SouthPolarStereo()\n",
    "crs_proj4 = crs.proj4_init\n",
    "for i in range(0, len(gdf)):\n",
    "    gdf[i] = gdf[i].to_crs(crs_proj4)\n",
    "world = world.to_crs(crs_proj4)"
   ]
  },
  {
   "cell_type": "code",
   "execution_count": 6,
   "id": "329859b6-f994-4f3e-88bc-0276228ab42e",
   "metadata": {},
   "outputs": [],
   "source": [
    "# convert to datetime objects\n",
    "for i in range(0, len(gdf)):\n",
    "    gdf[i]['Date/Time'] = pd.to_datetime(gdf[i]['Date/Time'], format='%Y-%m-%dT%H:%M')"
   ]
  },
  {
   "cell_type": "code",
   "execution_count": 7,
   "id": "723a3d5f-bb5e-4004-bff7-637188f00ffd",
   "metadata": {},
   "outputs": [],
   "source": [
    "# make time series\n",
    "ts = gdf[0]['Date/Time']\n",
    "for i in range(1, len(gdf)):\n",
    "    ts = pd.concat([ts, gdf[i]['Date/Time']])\n",
    "# remove duplicates\n",
    "ts = ts.drop_duplicates()\n",
    "# sort\n",
    "ts = ts.sort_values(ignore_index=True)"
   ]
  },
  {
   "cell_type": "code",
   "execution_count": 8,
   "id": "1198a4ed-38c7-4fd5-a2ef-0f92ffe8ace6",
   "metadata": {},
   "outputs": [
    {
     "data": {
      "text/plain": [
       "<matplotlib.image.AxesImage at 0x7f5762c80430>"
      ]
     },
     "execution_count": 8,
     "metadata": {},
     "output_type": "execute_result"
    },
    {
     "data": {
      "image/png": "[encoded data removed]",
      "text/plain": [
       "<Figure size 640x480 with 1 Axes>"
      ]
     },
     "metadata": {},
     "output_type": "display_data"
    }
   ],
   "source": [
    "# define and plot colormap for points\n",
    "from matplotlib import cm\n",
    "cmap = cm.get_cmap('spring', len(gdf)*1.)\n",
    "data = [list(np.arange(0, len(gdf)*1.))]\n",
    "plt.imshow(data, cmap=cmap)"
   ]
  },
  {
   "cell_type": "code",
   "execution_count": 9,
   "id": "47c20f8f-b75b-4d02-acb4-556c6ace7d2f",
   "metadata": {},
   "outputs": [],
   "source": [
    "# ignore warnings in plot commands below\n",
    "import warnings\n",
    "warnings.filterwarnings('ignore')"
   ]
  },
  {
   "cell_type": "code",
   "execution_count": 10,
   "id": "352d73c1-0f5f-4f6b-9f7b-b837a8cfe989",
   "metadata": {},
   "outputs": [],
   "source": [
    "from tqdm import tqdm"
   ]
  },
  {
   "cell_type": "code",
   "execution_count": 32,
   "id": "da5d3d3b-def3-46e5-9d32-0bd40ddbd5f8",
   "metadata": {},
   "outputs": [
    {
     "name": "stderr",
     "output_type": "stream",
     "text": [
      "100%|████████████████████████████████████████████████████████████████| 95/95 [01:34<00:00,  1.00it/s]\n"
     ]
    }
   ],
   "source": [
    "# do the plotting\n",
    "\n",
    "fnum = 1\n",
    "\n",
    "# time loop\n",
    "for t in tqdm(range(0, len(ts), 5)):\n",
    "    \n",
    "    # set up antarctica shoreline and color\n",
    "    ax = world[world.continent=='Antarctica'].plot(color='xkcd:ice blue',\n",
    "                                               edgecolor='xkcd:light blue')\n",
    "    \n",
    "    # background ocean color\n",
    "    ax.set_facecolor('xkcd:ocean blue')\n",
    "    \n",
    "    # loop through individual seals each in own gdf\n",
    "    for i in range(0, len(gdf)):\n",
    "        # # plot old times\n",
    "        # for ti in range(0, t):\n",
    "        #     gdf[i][gdf[i]['Date/Time']==ts[ti]].plot(\n",
    "        #         ax=ax, color=cmap(i), markersize=25,\n",
    "        #         edgecolor='k', linewidth=0.25, alpha=0.15, zorder=-1)\n",
    "        # plot current time\n",
    "        gdf[i][gdf[i]['Date/Time']==ts[t]].plot(\n",
    "            ax=ax, color=cmap(i), markersize=100,\n",
    "            edgecolor='k', linewidth=1.0, zorder=10)\n",
    "        # all points for legend\n",
    "        plt.scatter(0, 0, color=cmap(i), s=100, edgecolor='k', linewidth=1.0,\n",
    "                    label=str(i))\n",
    "\n",
    "    # axes limits\n",
    "    ax.set_xlim([-2e6, 2.5e6])\n",
    "    ax.set_ylim([0.5e6, 3e6])\n",
    "\n",
    "    # axes labels\n",
    "    ax.set_ylabel('Degrees Latitude')\n",
    "    ax.set_xlabel('Degrees Longitude')\n",
    "    ax.set_title('Seal Movements in the Weddell Sea in 1998\\nData from Nachtsheim et al. 2016')\n",
    "    ax.legend(loc='upper right', bbox_to_anchor=(1.17, 1.1),\n",
    "              title='Seal #', title_fontsize='large')\n",
    "    \n",
    "    # datetime text\n",
    "    ax.text(-0.45e6, 0.6e6, ts[t], fontsize=16)\n",
    "\n",
    "    # save\n",
    "    plt.savefig('frames/' + str(fnum).zfill(5) + '.png', dpi=200, bbox_inches='tight')\n",
    "    \n",
    "    # close figure\n",
    "    plt.close()\n",
    "    \n",
    "    # increment frame number\n",
    "    fnum += 1"
   ]
  },
  {
   "cell_type": "code",
   "execution_count": null,
   "id": "3c289a26-17a6-4425-b369-9a6ae5e86d3c",
   "metadata": {},
   "outputs": [],
   "source": []
  }
 ],
 "metadata": {
  "kernelspec": {
   "display_name": "Python [conda env:geospatial] *",
   "language": "python",
   "name": "conda-env-geospatial-py"
  },
  "language_info": {
   "codemirror_mode": {
    "name": "ipython",
    "version": 3
   },
   "file_extension": ".py",
   "mimetype": "text/x-python",
   "name": "python",
   "nbconvert_exporter": "python",
   "pygments_lexer": "ipython3",
   "version": "3.8.13"
  }
 },
 "nbformat": 4,
 "nbformat_minor": 5
}
